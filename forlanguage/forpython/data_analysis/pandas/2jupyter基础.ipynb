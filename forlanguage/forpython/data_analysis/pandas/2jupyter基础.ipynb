{
 "cells": [
  {
   "cell_type": "code",
   "execution_count": null,
   "metadata": {},
   "outputs": [],
   "source": [
    "cell 单元格\n",
    "单元格有两个【状态】：\n",
    "\n",
    "选中状态：没有光标闪动，此时可以对整个单元格操作，比如删除单元格、新增一个单元格、复制、粘贴、撤销、切换模式...\n",
    "\n",
    "编辑状态：能看到光标在闪动， 此时可以在单元格内部写代码或文本\n",
    "\n",
    "编辑状态-->选中状态  按下ESC\n",
    "选中状态-->编辑状态  按下Enter\n",
    "\n",
    "单元格有两个【模式】：\n",
    "Code： 支持代码运行\n",
    "Markdown： 支持Markdown语法，如果单元格是此模式，运行单元格意味着进入markdown的预览模式\n",
    "运行单元格： Ctrl + Enter（运行当前选中单元格，并选中当前单元格）\n",
    "两个模式的切换：Code-->Markdown  在单元格的选中状态下 按下M\n",
    "                Markdown-->Code  在单元格的选中状态下 按下Y\n",
    "\n",
    "\n",
    "# 如下展示了两个markdown的语法，只能在Markdown模式下运行\n",
    "# ### 三级标题\n",
    "\n",
    "# ```\n",
    "# def hello():\n",
    "#     print(\"hello world\")\n",
    "# ```\n",
    "\n",
    "# 如下展示一段代码，只能在Code模式下运行\n",
    "# def hello():\n",
    "#     print(\"hello world\")\n",
    "\n",
    "# hello()"
   ]
  },
  {
   "cell_type": "code",
   "execution_count": null,
   "metadata": {},
   "outputs": [],
   "source": [
    "但与"
   ]
  }
 ],
 "metadata": {
  "kernelspec": {
   "display_name": "Python 3",
   "language": "python",
   "name": "python3"
  },
  "language_info": {
   "codemirror_mode": {
    "name": "ipython",
    "version": 3
   },
   "file_extension": ".py",
   "mimetype": "text/x-python",
   "name": "python",
   "nbconvert_exporter": "python",
   "pygments_lexer": "ipython3",
   "version": "3.6.4"
  }
 },
 "nbformat": 4,
 "nbformat_minor": 2
}
