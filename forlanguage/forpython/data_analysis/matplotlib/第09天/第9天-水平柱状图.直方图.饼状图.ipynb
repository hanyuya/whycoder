{
 "cells": [
  {
   "cell_type": "code",
   "execution_count": null,
   "metadata": {},
   "outputs": [],
   "source": [
    "# 引入Matplotlib引入\n",
    "from matplotlib import pyplot as plt\n",
    "import numpy as np"
   ]
  },
  {
   "cell_type": "code",
   "execution_count": null,
   "metadata": {},
   "outputs": [],
   "source": [
    "# 设置中文字体\n",
    "plt.rcParams['font.sans-serif'] = ['SimHei']\n",
    "# 中文负号\n",
    "plt.rcParams['axes.unicode_minus'] = False\n",
    "\n",
    "# 设置分别率 为100\n",
    "plt.rcParams['figure.dpi'] = 100\n",
    "\n",
    "# 设置大小\n",
    "plt.rcParams['figure.figsize'] = (5,3)"
   ]
  },
  {
   "cell_type": "markdown",
   "metadata": {},
   "source": [
    "# 一. 水平条形图\n",
    "\n",
    "调用 Matplotlib 的 barh() 函数可以生成水平柱状图。\n",
    "- barh() 函数的用法与 bar() 函数的用法基本一样，只是在调用 barh() 函数时使用 y参数传入 Y 轴数据，使用 width 参数传入代表条柱宽度的数据。\n",
    "`plt.barh(y, width, height=0.8, left=None, *, align='center', **kwargs)`"
   ]
  },
  {
   "cell_type": "code",
   "execution_count": null,
   "metadata": {},
   "outputs": [],
   "source": [
    "countries = ['挪威', '德国', '中国', '美国', '瑞典']\n",
    "# 金牌个数\n",
    "gold_medal = np.array([16, 12, 9, 8, 8])\n",
    "\n",
    "# y轴为国家,宽度为奖牌数\n",
    "plt.barh(countries, width=gold_medal)"
   ]
  },
  {
   "cell_type": "markdown",
   "metadata": {},
   "source": [
    "### 三天中3部电影的票房变化\n",
    "\n",
    "movie = ['新蝙蝠侠', '狙击手', '奇迹笨小孩']\n",
    "\n",
    "real_day1 = [4053, 2548, 1543]\n",
    "\n",
    "real_day2 = [7840, 4013, 2421]\n",
    "\n",
    "real_day3 = [8080, 3673, 1342]\n",
    "\n"
   ]
  },
  {
   "cell_type": "markdown",
   "metadata": {},
   "source": [
    "### 绘制堆叠图\n",
    "<img src=\"images/image-20220325093804110.png\" style=\"width:400px\"/>\n",
    "\n",
    "分析:\n",
    "- 1.确定图形距离左侧的位置\n",
    "- 2.设置同一宽度\n",
    "- 3.绘制图形设置left参数\n",
    "- 4.标注数据"
   ]
  },
  {
   "cell_type": "code",
   "execution_count": null,
   "metadata": {},
   "outputs": [],
   "source": [
    "# 由于牵扯计算,因此将数据转numpy数组\n",
    "movie = ['新蝙蝠侠', '狙击手', '奇迹笨小孩']\n",
    "# 第一天\n",
    "real_day1 = np.array( [4053, 2548, 1543])\n",
    "\n",
    "# 第二天\n",
    "real_day2 = np.array([7840, 4013, 2421])\n",
    "\n",
    "# 第三天\n",
    "real_day3 = np.array([8080, 3673, 1342])\n",
    "\n",
    "# ================确定距离左侧========\n",
    "\n",
    "left_day2 = real_day1 # 第二天距离左侧的为第一天的数值\n",
    "\n",
    "left_day3 = real_day1 + real_day2  # 第三天距离左侧为 第一天+第二天的数据\n",
    "\n",
    "# 设置线条高度\n",
    "height = 0.2\n",
    "\n",
    "# 绘制图形:\n",
    "plt.barh(movie, real_day1, height=height)      # 第一天图形\n",
    "\n",
    "plt.barh(movie, real_day2, left=left_day2, height=height)  # 第二天图形\n",
    "\n",
    "plt.barh(movie, real_day3, left=left_day3, height=height) # 第三天图形\n",
    "\n",
    "# 设置数值文本:  计算宽度值和y轴为值\n",
    "\n",
    "sum_data = real_day1 + real_day2 +real_day3\n",
    "# horizontalalignment控制文本的x位置参数表示文本边界框的左边，中间或右边。---->ha\n",
    "# verticalalignment控制文本的y位置参数表示文本边界框的底部，中心或顶部 ---- va\n",
    "for i in range(len(movie)):\n",
    "    plt.text(sum_data[i], movie[i], sum_data[i],va=\"center\" , ha=\"left\")\n",
    "plt.xlim(0,sum_data.max()+2000)"
   ]
  },
  {
   "cell_type": "code",
   "execution_count": null,
   "metadata": {},
   "outputs": [],
   "source": []
  },
  {
   "cell_type": "markdown",
   "metadata": {},
   "source": [
    "### 绘制同位置多柱状图\n",
    "<img src=\"images/image-20220325095042369.png\" style=\"width:400px\"/>\n",
    "\n",
    "分析:\n",
    "\n",
    "- 1.由于牵扯高度的计算,因此先将y轴转换为数值型\n",
    "- 2.需要设置同图形的高度\n",
    "- 3.计算每个图形高度的起始位置\n",
    "- 4.绘制图形\n",
    "- 5.替换y轴数据"
   ]
  },
  {
   "cell_type": "code",
   "execution_count": null,
   "metadata": {},
   "outputs": [],
   "source": [
    "# 由于牵扯计算,因此将数据转numpy数组\n",
    "movie = ['新蝙蝠侠', '狙击手', '奇迹笨小孩']\n",
    "# 第一天\n",
    "real_day1 = np.array( [4053, 2548, 1543])\n",
    "\n",
    "# 第二天\n",
    "real_day2 = np.array([7840, 4013, 2421])\n",
    "\n",
    "# 第三天\n",
    "real_day3 = np.array([8080, 3673, 1342])\n",
    "\n",
    "\n",
    "# =================1.y轴转换为数值型======\n",
    "num_y = np.arange(len(movie))\n",
    "\n",
    "# ================2.需要设置同图形的高度========\n",
    "height = 0.2\n",
    "\n",
    "# ================3.计算每个图形高度的起始位置 ==========\n",
    "movie1_start_y = num_y               # 第一个电影不变\n",
    "movie2_start_y = num_y + height      # 第二个电影加上1倍的height\n",
    "movie3_start_y = num_y + 2 * height  # 第三个电影加上2倍的height\n",
    "\n",
    "\n",
    "# ================4.绘制图形 ===================\n",
    "\n",
    "plt.barh(movie1_start_y, real_day1, height=height)      # 第一天图形\n",
    "\n",
    "plt.barh(movie2_start_y, real_day2,  height=height)  # 第二天图形\n",
    "\n",
    "plt.barh(movie3_start_y, real_day3, height=height) # 第三天图形\n",
    "\n",
    "# 设置数值文本:  计算宽度值和y轴为值\n",
    "\n",
    "# ============5.替换y轴数据\n",
    "plt.yticks(num_y + height, movie)"
   ]
  },
  {
   "cell_type": "code",
   "execution_count": null,
   "metadata": {},
   "outputs": [],
   "source": []
  },
  {
   "cell_type": "code",
   "execution_count": null,
   "metadata": {},
   "outputs": [],
   "source": []
  },
  {
   "cell_type": "markdown",
   "metadata": {},
   "source": [
    "# 直方图 plt.hist()\n",
    "\n",
    "直方图（Histogram），又称质量分布图，它是一种条形图的一种，由一系列高度不等的纵向线段来表示数据分布的情况。 直方图的横轴表示数据类型，纵轴表示分布情况。\n",
    "\n",
    "首先，我们需要了解柱状图和直方图的区别。直方图用于概率分布，它显示了一组数值序列在给定的数值范围内出现的概率；而柱状图则用于展示各个类别的频数。\n",
    "\n",
    "<img src=\"images/image-20220325101728319.png\" style=\"width:400px\"/>\n",
    "\n",
    "\n",
    "|柱状图|直方图|\n",
    "|:-----------------------------|:-------------------------------------|\n",
    "|柱状图一般用于描述离散型分类数据的对比       |直方图一般用于描述连续型数据的分布关系|\n",
    "|每根柱子宽度固定，柱子之间会有间距          |每根柱子宽度可以不一样，且一般没有间距|\n",
    "|横轴变量可以任意排序                   |横轴变量有一定顺序规则|\n",
    "\n",
    "将统计值的范围分段，即将整个值的范围分成一系列间隔，然后计算每个间隔中有多少值。\n",
    "直方图也可以被归一化以显示“相对”频率。 然后，它显示了属于几个类别中的每个类别的占比，其高度总和等于1。\n",
    "\n",
    "`plt.hist(x, bins=None, range=None, density=None, weights=None, cumulative=False, bottom=None, histtype='bar', align='mid', orientation='vertical', rwidth=None, log=False, color=None, label=None, stacked=False, normed=None, *, data=None, **kwargs)`\n",
    "\n",
    "- x: 作直方图所要用的数据，必须是一维数组；多维数组可以先进行扁平化再作图；必选参数；\n",
    "- bins: 直方图的柱数，即要分的组数，默认为10；\n",
    "- weights：与x形状相同的权重数组；将x中的每个元素乘以对应权重值再计数；如果normed或density取值为True，则会对权重进行归一化处理。这个参数可用于绘制已合并的数据的直方图；\n",
    "- density：布尔,可选。如果\"True\"，返回元组的第一个元素将会将计数标准化以形成一个概率密度，也就是说，直方图下的面积（或积分）总和为1。这是通过将计数除以数字的数量来实现的观察乘以箱子的宽度而不是除以总数数量的观察。如果叠加也是“真实”的，那么柱状图被规范化为1。(替代normed)\n",
    "- bottom：数组，标量值或None；每个柱子底部相对于y=0的位置。如果是标量值，则每个柱子相对于y=0向上/向下的偏移量相同。如果是数组，则根据数组元素取值移动对应的柱子；即直方图上下便宜距离；\n",
    "- histtype：{‘bar’, ‘barstacked’, ‘step’, ‘stepfilled’}；'bar’是传统的条形直方图；'barstacked’是堆叠的条形直方图；'step’是未填充的条形直方图，只有外边框；‘stepfilled’是有填充的直方图；当histtype取值为’step’或’stepfilled’，rwidth设置失效，即不能指定柱子之间的间隔，默认连接在一起；\n",
    "- align：{‘left’, ‘mid’, ‘right’}；‘left’：柱子的中心位于bins的左边缘；‘mid’：柱子位于bins左右边缘之间；‘right’：柱子的中心位于bins的右边缘；\n",
    "- color：具体颜色，数组（元素为颜色）或None。\n",
    "- label：字符串（序列）或None；有多个数据集时，用label参数做标注区分；\n",
    "- normed: 是否将得到的直方图向量归一化，即显示占比，默认为0，不归一化；不推荐使用，建议改用density参数；\n",
    "- edgecolor: 直方图边框颜色；\n",
    "- alpha: 透明度；"
   ]
  },
  {
   "cell_type": "code",
   "execution_count": null,
   "metadata": {},
   "outputs": [],
   "source": [
    "# 使用numpy随机生成300个随机数据\n",
    "x_value = np.random.randint(140,180,300)"
   ]
  },
  {
   "cell_type": "code",
   "execution_count": null,
   "metadata": {},
   "outputs": [],
   "source": [
    "plt.hist(x_value, bins=10, edgecolor='white')\n",
    "#plt.hist(x_value, bins=20, edgecolor='white')\n",
    " \n",
    "plt.title(\"数据统计\")\n",
    "plt.xlabel(\"身高\")\n",
    "plt.ylabel(\"比率\")"
   ]
  },
  {
   "cell_type": "markdown",
   "metadata": {},
   "source": [
    "## 返回值\n",
    "\n",
    "- n : 数组或数组列表\n",
    " - 直方图的值\n",
    "- bins : 数组\n",
    " - 返回各个bin的区间范围\n",
    "- patches : 列表的列表或列表\n",
    " -返回每个bin里面包含的数据，是一个list"
   ]
  },
  {
   "cell_type": "code",
   "execution_count": null,
   "metadata": {
    "scrolled": true
   },
   "outputs": [],
   "source": [
    "num,bins_limit,patches = plt.hist(x_value, bins=10, edgecolor='white')\n",
    "plt.grid(ls=\"--\")"
   ]
  },
  {
   "cell_type": "code",
   "execution_count": null,
   "metadata": {},
   "outputs": [],
   "source": [
    "num"
   ]
  },
  {
   "cell_type": "code",
   "execution_count": null,
   "metadata": {},
   "outputs": [],
   "source": [
    "bins_limit"
   ]
  },
  {
   "cell_type": "code",
   "execution_count": null,
   "metadata": {},
   "outputs": [],
   "source": [
    "for i in patches:\n",
    "    print(i)\n",
    "    print(i.get_x())\n",
    "    print(i.get_y())\n",
    "    print(i.get_height())\n",
    "    print(i.get_width())"
   ]
  },
  {
   "cell_type": "code",
   "execution_count": null,
   "metadata": {},
   "outputs": [],
   "source": [
    "patches[0].get_width()"
   ]
  },
  {
   "cell_type": "code",
   "execution_count": null,
   "metadata": {},
   "outputs": [],
   "source": [
    "# 绘制直方图返回元组,元组中有三个元素\n",
    "num,bins_limit,patches = plt.hist(x_value, bins=10, edgecolor='white')\n",
    "print(\"n 是分组区间对应的频率：\",num,end=\"\\n\\n\")\n",
    "print(\"bins_limit 是分组时的分隔值：\",bins_limit,end=\"\\n\\n\")\n",
    "print(\"patches 指的是是直方图中列表对象\",type(patches),end=\"\\n\\n\")\n",
    "#plt.xticks(bins_limit)  \n",
    "plt.show()\n",
    "x_limit_value = []\n",
    "height_value = []\n",
    "for item in patches:\n",
    "    print(item)\n",
    "    x_limit_value.append(item.get_x())\n",
    "    height_value.append(item.get_height())\n",
    "\n",
    "print(x_limit_value)\n",
    "print(height_value)\n"
   ]
  },
  {
   "cell_type": "markdown",
   "metadata": {},
   "source": [
    "- xy：xy位置（x取值bins_limits 是分组时的分隔值，y取值都是0开始）\n",
    "- width ：宽度为各个bin的区间范围（bins_limits 是分组时的分隔值）\n",
    "- height ：高度也就是密度值（n 是分组区间对应的频率）\n",
    "- angle：角度"
   ]
  },
  {
   "cell_type": "markdown",
   "metadata": {},
   "source": [
    "### 添加折线直方图\n",
    "\n",
    "在直方图中，我们也可以加一个折线图，辅助我们查看数据变化情况\n",
    "\n",
    "- 首先通过pyplot.subplots()创建Axes对象\n",
    "\n",
    "- 通过Axes对象调用hist()方法绘制直方图，返回折线图所需要的下x,y数据\n",
    "\n",
    "- 然后Axes对象调用plot()绘制折线图\n",
    "\n",
    "- 我们对第一节代码进行改造一下\n"
   ]
  },
  {
   "cell_type": "code",
   "execution_count": null,
   "metadata": {},
   "outputs": [],
   "source": [
    "# 创建一个画布\n",
    "fig, ax = plt.subplots()\n",
    "\n",
    "# 绘制直方图\n",
    "num,bins_limit,patches = ax.hist(x_value, bins=10, edgecolor='white')\n",
    "\n",
    "# 注意num返回的个数是10,bins_limit返回的个数为11,需要截取\n",
    "print(bins_limit[:-1])\n",
    "# 曲线图\n",
    "ax.plot(bins_limit[:10], num, '--',marker=\"o\")\n",
    "#ax.set_xticks(bins_limit)\n",
    "# 需要单独设置x轴的旋转\n",
    "plt.xticks(bins_limit,rotation=45)"
   ]
  },
  {
   "cell_type": "markdown",
   "metadata": {},
   "source": [
    "##  不等距分组\n",
    "面的直方图都是等距的，但有时我们需要得到不等距的直方图，这个时候只需要确定分组上下限，并指定 histtype=\"bar\" 就可以"
   ]
  },
  {
   "cell_type": "code",
   "execution_count": null,
   "metadata": {},
   "outputs": [],
   "source": [
    "\n",
    "fig, ax = plt.subplots()\n",
    "x = np.random.normal(100,20,100) # 均值和标准差\n",
    "bins = [50, 60, 70, 90, 100,110, 140, 150]\n",
    "ax.hist(x, bins, color=\"g\",rwidth=0.5)\n",
    "ax.set_title('不等距分组')\n",
    "plt.show()"
   ]
  },
  {
   "cell_type": "markdown",
   "metadata": {},
   "source": [
    "### 多类型直方图\n",
    "\n",
    "我们在使用直方图查查看数据的频率时，有时候会查看多种类型数据出现的频率。\n",
    "\n",
    "- 这时候我们可以以列表的形式传入多种数据给hist()方法的x数据"
   ]
  },
  {
   "cell_type": "code",
   "execution_count": null,
   "metadata": {},
   "outputs": [],
   "source": [
    "# 指定分组个数\n",
    "n_bins=10\n",
    "\n",
    "fig,ax=plt.subplots(figsize=(8,5))\n",
    "\n",
    "# 分别生成10000 ， 5000 ， 2000 个值\n",
    "x_multi = [np.random.randn(n) for n in [10000, 5000, 2000]]\n",
    "\n",
    "\n",
    "# 实际绘图代码与单类型直方图差异不大，只是增加了一个图例项\n",
    "# 在 ax.hist 函数中先指定图例 label 名称\n",
    "ax.hist(x_multi, n_bins, histtype='bar',label=list(\"ABC\"))\n",
    "\n",
    "ax.set_title('多类型直方图')\n",
    "\n",
    "# 通过 ax.legend 函数来添加图例\n",
    "ax.legend()\n"
   ]
  },
  {
   "cell_type": "markdown",
   "metadata": {},
   "source": [
    "### 堆叠直方图\n",
    "\n",
    "我们有时候会对吧同样数据范围情况下，对比两组不同对象群体收集的数据差异\n",
    "\n",
    "准备两组数据："
   ]
  },
  {
   "cell_type": "code",
   "execution_count": null,
   "metadata": {},
   "outputs": [],
   "source": [
    "x_value = np.random.randint(140,180,200)\n",
    "x2_value = np.random.randint(140,180,200)"
   ]
  },
  {
   "cell_type": "markdown",
   "metadata": {},
   "source": [
    "- 直方图属性data：以列表的形式传入两组数据\n",
    "\n",
    "- 设置直方图stacked:为True，允许数据覆盖"
   ]
  },
  {
   "cell_type": "code",
   "execution_count": null,
   "metadata": {},
   "outputs": [],
   "source": [
    "#plt.hist([x_value,x2_value],bins=10,stacked=True)\n",
    "plt.hist([x_value,x2_value],bins=10, stacked=True)"
   ]
  },
  {
   "cell_type": "code",
   "execution_count": null,
   "metadata": {},
   "outputs": [],
   "source": []
  },
  {
   "cell_type": "code",
   "execution_count": null,
   "metadata": {},
   "outputs": [],
   "source": []
  },
  {
   "cell_type": "markdown",
   "metadata": {},
   "source": [
    "# 饼状图 pie()\n",
    "\n",
    "饼状图用来显示一个数据系列，具体来说，饼状图显示一个数据系列中各项目的占项目总和的百分比。\n",
    "\n",
    "Matplotlib 提供了一个 pie() 函数，该函数可以生成数组中数据的饼状图。您可使用 x/sum(x) 来计算各个扇形区域占饼图总和的百分比。pie() 函数的参数说明如下：\n",
    "\n",
    "`pyplot.pie(x, explode=None, labels=None, colors=None, autopct=None)`\n",
    "- x:  数组序列，数组元素对应扇形区域的数量大小。\n",
    "- labels: 列表字符串序列，为每个扇形区域备注一个标签名字。\n",
    "- colors; 为每个扇形区域设置颜色，默认按照颜色周期自动设置。\n",
    "- autopct: 格式化字符串\"fmt%pct\"，使用百分比的格式设置每个扇形区的标签，并将其放置在扇形区内。\n",
    "- pctdistance：设置百分比标签与圆心的距离；\n",
    "- labeldistance：设置各扇形标签（图例）与圆心的距离；\n",
    "- explode: 指定饼图某些部分的突出显示，即呈现爆炸式；()\n",
    "- shadow：是否添加饼图的阴影效果\n",
    "\n",
    "<img src=\"images/image-202203291117121.png\"/>"
   ]
  },
  {
   "cell_type": "code",
   "execution_count": null,
   "metadata": {},
   "outputs": [],
   "source": [
    "# 设置大小\n",
    "plt.rcParams['figure.figsize'] = (5,5)\n",
    "\n",
    "\n",
    "\n",
    "#定义饼的标签，\n",
    "labels = ['娱乐','育儿','饮食','房贷','交通','其它']\n",
    "\n",
    "#每个标签所占的数量\n",
    "x = [200,500,1200,7000,200,900]\n",
    "\n",
    "#绘制饼图\n",
    "plt.pie(x,labels=labels)"
   ]
  },
  {
   "cell_type": "markdown",
   "metadata": {},
   "source": [
    "### 百分比显示 percentage\n",
    "`autopct` "
   ]
  },
  {
   "cell_type": "code",
   "execution_count": null,
   "metadata": {},
   "outputs": [],
   "source": [
    "#定义饼的标签，\n",
    "labels = ['娱乐','育儿','饮食','房贷','交通','其它']\n",
    "\n",
    "#每个标签所占的数量\n",
    "x = [200,500,1200,7000,200,900]\n",
    "\n",
    "plt.title(\"饼图示例-8月份家庭支出\")\n",
    "\n",
    "#%.2f%%显示百分比,保留2位小数\n",
    "plt.pie(x,labels=labels,autopct='%.2f%%')\n"
   ]
  },
  {
   "cell_type": "markdown",
   "metadata": {},
   "source": [
    "### 饼状图的分离\n",
    "\n",
    "`explode`: 指定饼图某些部分的突出显示\n",
    "\n"
   ]
  },
  {
   "cell_type": "code",
   "execution_count": null,
   "metadata": {},
   "outputs": [],
   "source": [
    "#定义饼的标签，\n",
    "labels = ['娱乐','育儿','饮食','房贷','交通','其它']\n",
    "\n",
    "#每个标签所占的数量\n",
    "x = [200,500,1200,7000,200,900]\n",
    "\n",
    "#饼图分离\n",
    "explode = (0.03,0.05,0.06,0.04,0.08,0.21)\n",
    "\n",
    "#设置阴影效果\n",
    "plt.pie(x,labels=labels,autopct='%3.2f%%',explode=explode)"
   ]
  },
  {
   "cell_type": "markdown",
   "metadata": {},
   "source": [
    "## 设置饼状图百分比和文本距离中心位置:\n",
    "\n",
    "- pctdistance：设置百分比标签与圆心的距离；\n",
    "- labeldistance：设置各扇形标签（图例）与圆心的距离；\n",
    "    "
   ]
  },
  {
   "cell_type": "code",
   "execution_count": null,
   "metadata": {},
   "outputs": [],
   "source": [
    "#定义饼的标签，\n",
    "labels = ['娱乐','育儿','饮食','房贷','交通','其它']\n",
    "\n",
    "#每个标签所占的数量\n",
    "x = [200,500,1200,7000,200,900]\n",
    "\n",
    "#饼图分离\n",
    "explode = (0.03,0.05,0.06,0.04,0.08,0.1)\n",
    "\n",
    "#设置阴影效果\n",
    "#plt.pie(x,labels=labels,autopct='%3.2f%%',explode=explode,shadow=True)\n",
    "\n",
    "plt.pie(x,labels=labels,autopct='%3.2f%%',explode=explode, labeldistance=1.35, pctdistance=1.2)"
   ]
  },
  {
   "cell_type": "markdown",
   "metadata": {},
   "source": [
    "## 图例\n"
   ]
  },
  {
   "cell_type": "code",
   "execution_count": null,
   "metadata": {},
   "outputs": [],
   "source": [
    "#定义饼的标签，\n",
    "labels = ['娱乐','育儿','饮食','房贷','交通','其它']\n",
    "\n",
    "#每个标签所占的数量\n",
    "x = [200,500,1200,7000,200,900]\n",
    "\n",
    "#饼图分离\n",
    "explode = (0.03,0.05,0.06,0.04,0.08,0.1)\n",
    "\n",
    "#设置阴影效果\n",
    "#plt.pie(x,labels=labels,autopct='%3.2f%%',explode=explode,shadow=True)\n",
    "\n",
    "plt.pie(x,labels=labels,autopct='%3.2f%%',explode=explode, labeldistance=1.35, pctdistance=1.2)\n",
    "plt.legend()"
   ]
  },
  {
   "cell_type": "markdown",
   "metadata": {},
   "source": [
    "## 设置x,y的刻度一样，使其饼图为正圆 \n",
    "plt.axis('equal')"
   ]
  },
  {
   "cell_type": "code",
   "execution_count": null,
   "metadata": {},
   "outputs": [],
   "source": []
  },
  {
   "cell_type": "code",
   "execution_count": null,
   "metadata": {},
   "outputs": [],
   "source": []
  }
 ],
 "metadata": {
  "kernelspec": {
   "display_name": "Python 3",
   "language": "python",
   "name": "python3"
  },
  "language_info": {
   "codemirror_mode": {
    "name": "ipython",
    "version": 3
   },
   "file_extension": ".py",
   "mimetype": "text/x-python",
   "name": "python",
   "nbconvert_exporter": "python",
   "pygments_lexer": "ipython3",
   "version": "3.7.6"
  }
 },
 "nbformat": 4,
 "nbformat_minor": 4
}
